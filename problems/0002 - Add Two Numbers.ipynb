{
 "cells": [
  {
   "cell_type": "markdown",
   "id": "55b295f4",
   "metadata": {},
   "source": [
    "#### You are given two non-empty linked lists representing two non-negative integers. The digits are stored in reverse order, and each of their nodes contains a single digit. Add the two numbers and return the sum as a linked list.\n",
    " \n",
    "\n",
    "#### Example 1:\n",
    "```Text\n",
    "Input: l1 = [2,4,3], l2 = [5,6,4]\n",
    "Output: [7,0,8]\n",
    "Explanation: 342 + 465 = 807.\n",
    "```\n",
    "#### Example 2:\n",
    "```Text\n",
    "Input: l1 = [0], l2 = [0]\n",
    "Output: [0]\n",
    "```\n",
    "#### Example 3:\n",
    "```Text\n",
    "Input: l1 = [9,9,9,9,9,9,9], l2 = [9,9,9,9]\n",
    "Output: [8,9,9,9,0,0,0,1]\n",
    "```\n",
    " \n",
    "\n",
    "#### Constraints:\n",
    "```Text\n",
    "    The number of nodes in each linked list is in the range [1, 100].\n",
    "    0 <= Node.val <= 9\n",
    "    It is guaranteed that the list represents a number that does not have leading zeros.\n",
    "```"
   ]
  },
  {
   "cell_type": "markdown",
   "id": "49933ff9",
   "metadata": {},
   "source": [
    "# Solution 1"
   ]
  },
  {
   "cell_type": "code",
   "execution_count": null,
   "id": "c536b2ae",
   "metadata": {},
   "outputs": [],
   "source": [
    "# Definition for singly-linked list.\n",
    "# class ListNode:\n",
    "#     def __init__(self, val=0, next=None):\n",
    "#         self.val = val\n",
    "#         self.next = next\n",
    "    \n",
    "class Solution:\n",
    "    def addTwoNumbers(self, l1: Optional[ListNode], l2: Optional[ListNode]) -> Optional[ListNode]:\n",
    "        n, b = (0, 1)\n",
    "\n",
    "        node_val, next_node = l1.val, l1.next\n",
    "        while True:\n",
    "            n += node_val * b\n",
    "            \n",
    "            if next_node is None:\n",
    "                break\n",
    "            \n",
    "            node_val = next_node.val\n",
    "            next_node = next_node.next\n",
    "            b *= 10\n",
    "        \n",
    "        b = 1\n",
    "        node_val, next_node = l2.val, l2.next\n",
    "        while True:\n",
    "            n += node_val * b\n",
    "            \n",
    "            if next_node is None:\n",
    "                break\n",
    "            \n",
    "            node_val = next_node.val\n",
    "            next_node = next_node.next\n",
    "            b *= 10\n",
    "        \n",
    "        string = str(n)[::-1]\n",
    "        node = ListNode(int(string[0]))\n",
    "        result = node\n",
    "        for i in range(1, len(string)):\n",
    "            node.next = ListNode(int(string[i]))\n",
    "            node = node.next\n",
    "        return result"
   ]
  },
  {
   "cell_type": "markdown",
   "id": "c86f2e6e",
   "metadata": {},
   "source": [
    "# Solution 2"
   ]
  },
  {
   "cell_type": "code",
   "execution_count": null,
   "id": "9d2decdd",
   "metadata": {},
   "outputs": [
    {
     "data": {
      "text/plain": [
       "[7, 0, 8]"
      ]
     },
     "execution_count": 15,
     "metadata": {},
     "output_type": "execute_result"
    }
   ],
   "source": [
    "# Definition for singly-linked list.\n",
    "# class ListNode:\n",
    "#     def __init__(self, val=0, next=None):\n",
    "#         self.val = val\n",
    "#         self.next = next\n",
    "    \n",
    "class Solution:\n",
    "    def addTwoNumbers(self, l1: Optional[ListNode], l2: Optional[ListNode]) -> Optional[ListNode]:\n",
    "        carry = 0\n",
    "        result = ListNode()\n",
    "        node_sum = result\n",
    "        node1 = l1\n",
    "        node2 = l2\n",
    "\n",
    "        while True:\n",
    "            if node1 is not None:\n",
    "                v1 = node1.val\n",
    "            else:\n",
    "                v1 = 0\n",
    "            \n",
    "\n",
    "            if node2 is not None:\n",
    "                v2 = node2.val\n",
    "            else:\n",
    "                v2 = 0\n",
    "            \n",
    "            s = v1 + v2 + carry\n",
    "\n",
    "            if s > 9:\n",
    "                carry = s // 10\n",
    "                s = s % 10\n",
    "            else:\n",
    "                carry = 0\n",
    "            \n",
    "            node_sum.val = s\n",
    "\n",
    "            node1 = node1.next if node1 is not None else None\n",
    "            node2 = node2.next if node2 is not None else None\n",
    "\n",
    "            if node1 is None and node2 is None:\n",
    "                if carry != 0:\n",
    "                    node_sum.next = ListNode()\n",
    "                    node_sum = node_sum.next\n",
    "                    node_sum.val = carry\n",
    "                \n",
    "                break\n",
    "            \n",
    "            node_sum.next = ListNode()\n",
    "            node_sum = node_sum.next\n",
    "\n",
    "        return result\n"
   ]
  }
 ],
 "metadata": {
  "kernelspec": {
   "display_name": "base",
   "language": "python",
   "name": "python3"
  },
  "language_info": {
   "codemirror_mode": {
    "name": "ipython",
    "version": 3
   },
   "file_extension": ".py",
   "mimetype": "text/x-python",
   "name": "python",
   "nbconvert_exporter": "python",
   "pygments_lexer": "ipython3",
   "version": "3.11.5"
  }
 },
 "nbformat": 4,
 "nbformat_minor": 5
}
