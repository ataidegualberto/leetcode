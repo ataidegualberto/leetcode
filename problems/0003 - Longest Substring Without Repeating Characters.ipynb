{
 "cells": [
  {
   "cell_type": "markdown",
   "id": "55b295f4",
   "metadata": {},
   "source": [
    "Given a string s, find the length of the longest\n",
    "\n",
    "without duplicate characters.\n",
    "\n",
    " \n",
    "\n",
    "Example 1:\n",
    "\n",
    "Input: s = \"abcabcbb\"\n",
    "Output: 3\n",
    "Explanation: The answer is \"abc\", with the length of 3.\n",
    "\n",
    "Example 2:\n",
    "\n",
    "Input: s = \"bbbbb\"\n",
    "Output: 1\n",
    "Explanation: The answer is \"b\", with the length of 1.\n",
    "\n",
    "Example 3:\n",
    "\n",
    "Input: s = \"pwwkew\"\n",
    "Output: 3\n",
    "Explanation: The answer is \"wke\", with the length of 3.\n",
    "Notice that the answer must be a substring, \"pwke\" is a subsequence and not a substring.\n",
    "\n",
    " \n",
    "\n",
    "Constraints:\n",
    "\n",
    "    0 <= s.length <= 5 * 104\n",
    "    s consists of English letters, digits, symbols and spaces.\n"
   ]
  },
  {
   "cell_type": "markdown",
   "id": "49933ff9",
   "metadata": {},
   "source": [
    "# Solution 1"
   ]
  },
  {
   "cell_type": "code",
   "execution_count": null,
   "id": "c536b2ae",
   "metadata": {},
   "outputs": [],
   "source": [
    "class Solution:\n",
    "    def lengthOfLongestSubstring(self, s: str) -> int:\n",
    "        n = len(s)\n",
    "        length_longest_substr = 0\n",
    "\n",
    "        for i in range(n):\n",
    "            for j in range(n):\n",
    "                if j >= i:\n",
    "                    substring = s[i:j+1]\n",
    "\n",
    "                    seen_chars = []\n",
    "                    for char in substring:\n",
    "                        if char in seen_chars:\n",
    "                            break\n",
    "                        \n",
    "                        seen_chars.append(char)\n",
    "                    \n",
    "                    if len(seen_chars) > length_longest_substr:\n",
    "                        length_longest_substr = len(seen_chars)\n",
    "                    \n",
    "\n",
    "        return length_longest_substr\n",
    "        \n",
    "        \n"
   ]
  },
  {
   "cell_type": "markdown",
   "id": "c86f2e6e",
   "metadata": {},
   "source": [
    "# Solution 2"
   ]
  },
  {
   "cell_type": "code",
   "execution_count": null,
   "id": "9d2decdd",
   "metadata": {},
   "outputs": [],
   "source": [
    "# To do"
   ]
  }
 ],
 "metadata": {
  "kernelspec": {
   "display_name": "base",
   "language": "python",
   "name": "python3"
  },
  "language_info": {
   "codemirror_mode": {
    "name": "ipython",
    "version": 3
   },
   "file_extension": ".py",
   "mimetype": "text/x-python",
   "name": "python",
   "nbconvert_exporter": "python",
   "pygments_lexer": "ipython3",
   "version": "3.11.5"
  }
 },
 "nbformat": 4,
 "nbformat_minor": 5
}
