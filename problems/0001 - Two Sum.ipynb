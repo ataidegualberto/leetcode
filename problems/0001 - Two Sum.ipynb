{
 "cells": [
  {
   "cell_type": "markdown",
   "id": "55b295f4",
   "metadata": {},
   "source": [
    "Given an array of integers nums and an integer target, return indices of the two numbers such that they add up to target.\n",
    "You may assume that each input would have exactly one solution, and you may not use the same element twice.\n",
    "You can return the answer in any order.\n",
    "\n",
    " \n",
    "\n",
    "#### Example 1:\n",
    "```Text\n",
    "Input: nums = [2,7,11,15], target = 9\n",
    "Output: [0,1]\n",
    "Explanation: Because nums[0] + nums[1] == 9, we return [0, 1].\n",
    "```\n",
    "#### Example 2:\n",
    "```Text\n",
    "Input: nums = [3,2,4], target = 6\n",
    "Output: [1,2]\n",
    "```\n",
    "#### Example 3:\n",
    "```Text\n",
    "Input: nums = [3,3], target = 6\n",
    "Output: [0,1]\n",
    "```\n",
    " \n",
    "\n",
    "#### Constraints:\n",
    "```Text\n",
    "    2 <= nums.length <= 104\n",
    "    -109 <= nums[i] <= 109\n",
    "    -109 <= target <= 109\n",
    "    Only one valid answer exists.\n",
    "```\n",
    " \n",
    "Follow-up: Can you come up with an algorithm that is less than O(n2) time complexity?"
   ]
  },
  {
   "cell_type": "markdown",
   "id": "49933ff9",
   "metadata": {},
   "source": [
    "# Solution 1"
   ]
  },
  {
   "cell_type": "code",
   "execution_count": null,
   "id": "c536b2ae",
   "metadata": {
    "vscode": {
     "languageId": "plaintext"
    }
   },
   "outputs": [],
   "source": [
    "class Solution:\n",
    "    def twoSum(self, nums: List[int], target: int) -> List[int]:\n",
    "        n = len(nums)\n",
    "\n",
    "        for i in range(n):\n",
    "            for j in range(i+1, n):\n",
    "                if (nums[i] + nums[j]) == target:\n",
    "                    return [i, j]\n",
    "        "
   ]
  },
  {
   "cell_type": "markdown",
   "id": "c86f2e6e",
   "metadata": {},
   "source": [
    "# Solution 2"
   ]
  },
  {
   "cell_type": "code",
   "execution_count": null,
   "id": "9d2decdd",
   "metadata": {
    "vscode": {
     "languageId": "plaintext"
    }
   },
   "outputs": [],
   "source": [
    "class Solution:\n",
    "    def twoSum(self, nums: List[int], target: int) -> List[int]:\n",
    "        n = len(nums)\n",
    "        dictionary = {}\n",
    "\n",
    "        for i in range(n):\n",
    "            dictionary[nums[i]] = i\n",
    "        \n",
    "        for i in range(n):\n",
    "            complement = target - nums[i]\n",
    "\n",
    "            if (complement in dictionary) and (dictionary[complement] != i):\n",
    "                return [i, dictionary[complement]]"
   ]
  }
 ],
 "metadata": {
  "language_info": {
   "name": "python"
  }
 },
 "nbformat": 4,
 "nbformat_minor": 5
}
